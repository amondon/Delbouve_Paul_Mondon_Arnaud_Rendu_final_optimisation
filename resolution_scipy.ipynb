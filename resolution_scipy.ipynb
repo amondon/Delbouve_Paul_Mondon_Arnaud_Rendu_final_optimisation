{
 "cells": [
  {
   "cell_type": "code",
   "execution_count": 8,
   "metadata": {},
   "outputs": [],
   "source": [
    "import matplotlib.pyplot as plt\n",
    "import numpy as np\n",
    "%matplotlib inline\n",
    "from scipy import optimize"
   ]
  },
  {
   "cell_type": "code",
   "execution_count": 2,
   "metadata": {},
   "outputs": [],
   "source": [
    "#données du problème :\n",
    "\n",
    "n=100 #discretisation\n",
    "\n",
    "#temps:\n",
    "t0=0\n",
    "tf=299\n",
    "lt=np.linspace(t0,tf,n+1)\n",
    "\n",
    "#charge\n",
    "Qm=10\n",
    "c0=0.2\n",
    "cf=1\n",
    "\n",
    "#prix\n",
    "ph=1\n",
    "pb=0.5\n",
    "\n",
    "#Intensité\n",
    "Im=2"
   ]
  },
  {
   "cell_type": "code",
   "execution_count": 3,
   "metadata": {},
   "outputs": [
    {
     "data": {
      "image/png": "[encoded data removed]",
      "text/plain": [
       "<Figure size 432x288 with 1 Axes>"
      ]
     },
     "metadata": {
      "needs_background": "light"
     },
     "output_type": "display_data"
    }
   ],
   "source": [
    "def PrixHoraire(t,ph,pb):\n",
    "    n=np.floor(t)\n",
    "    if n%200 < 99:\n",
    "        return ph\n",
    "    else:\n",
    "        return pb\n",
    "    \n",
    "VPrixHoraire= np.vectorize(PrixHoraire)\n",
    "lprix=VPrixHoraire(lt,3,2)\n",
    "plt.plot(lt,lprix)\n",
    "plt.show()"
   ]
  },
  {
   "cell_type": "code",
   "execution_count": 4,
   "metadata": {},
   "outputs": [],
   "source": [
    "def charge(I): #donne la charge à tout temps(charge absolue, pas en %)\n",
    "    c=c0*Qm\n",
    "    charge=np.zeros(n)\n",
    "    for i in range (n):\n",
    "        Q=-(lt[i+1]-lt[i])*(I[i])\n",
    "        c+=Q\n",
    "        charge[i]=c\n",
    "    return charge"
   ]
  },
  {
   "cell_type": "code",
   "execution_count": 5,
   "metadata": {},
   "outputs": [],
   "source": [
    "def fcout1(I): \n",
    "    S=0\n",
    "    listeS=[]\n",
    "    for i in range (n):\n",
    "        Q=-(lt[i+1]-lt[i])*I[i]\n",
    "        P=PrixHoraire(lt[i],ph,pb) #On suppose ici que l'on ne change pas de prix horaire sur l'intervalle listet[i], listet[i+1]\n",
    "        S+=P*Q\n",
    "        listeS.append(S)\n",
    "    return S,np.array(listeS)"
   ]
  },
  {
   "cell_type": "code",
   "execution_count": 7,
   "metadata": {},
   "outputs": [],
   "source": [
    "def affichage(I):    \n",
    "    lcout=fcout1(I)[1]\n",
    "    lcharge=charge(I)\n",
    "    lprix=VPrixHoraire(lt[0:n],3,2)\n",
    "    plt.plot(lt[0:n],lcout,'+',label=\"cout\")\n",
    "    plt.plot(lt[0:n],lcharge,'+',label=\"charge\")\n",
    "    plt.plot(lt[0:n],lprix,'+',label=\"prix\")\n",
    "    plt.plot(lt[0:n],I,'+',label=\"intensité\")\n",
    "    plt.legend()\n",
    "    plt.plot()\n"
   ]
  },
  {
   "cell_type": "code",
   "execution_count": 9,
   "metadata": {},
   "outputs": [],
   "source": [
    "F=np.array([(lt[i+1]-lt[i])*PrixHoraire(lt[i],ph,pb) for i in range (n)])\n",
    "\n",
    "Aun=np.zeros ((2*n,n)) \n",
    "#Contraintes inégalités ( limitation de la borne)\n",
    "for i in range (n):\n",
    "    Aun[i,i]=-1\n",
    "    Aun[n+i,i]=1\n",
    "    \n",
    "    \n",
    "Bun=np.zeros(2*n)\n",
    "for i in range(n):\n",
    "    Bun[i]=Im\n",
    "for i in range(n,2*n):\n",
    "    Bun[i]=0\n",
    "# Contrainte égalité (chargement)\n",
    "\n",
    "\n",
    "Aeq=np.zeros ((1,n))\n",
    "Aeq[0,:]=np.array([lt[i+1]-lt[i] for i in range (n)])\n",
    "    \n",
    "Beq=np.zeros(1)\n",
    "Beq[0]=-(cf-c0)*Qm"
   ]
  },
  {
   "cell_type": "code",
   "execution_count": 10,
   "metadata": {},
   "outputs": [],
   "source": [
    "X=optimize.linprog(F,A_ub=None,b_ub=None,A_eq=Aeq,b_eq=Beq,bounds=(-Im,0))"
   ]
  },
  {
   "cell_type": "code",
   "execution_count": 13,
   "metadata": {},
   "outputs": [],
   "source": [
    "I=X[\"x\"]"
   ]
  },
  {
   "cell_type": "code",
   "execution_count": 14,
   "metadata": {},
   "outputs": [
    {
     "data": {
      "image/png": "[encoded data removed]",
      "text/plain": [
       "<Figure size 432x288 with 1 Axes>"
      ]
     },
     "metadata": {
      "needs_background": "light"
     },
     "output_type": "display_data"
    }
   ],
   "source": [
    "affichage(I)"
   ]
  },
  {
   "cell_type": "code",
   "execution_count": null,
   "metadata": {},
   "outputs": [],
   "source": []
  }
 ],
 "metadata": {
  "kernelspec": {
   "display_name": "Python 3",
   "language": "python",
   "name": "python3"
  },
  "language_info": {
   "codemirror_mode": {
    "name": "ipython",
    "version": 3
   },
   "file_extension": ".py",
   "mimetype": "text/x-python",
   "name": "python",
   "nbconvert_exporter": "python",
   "pygments_lexer": "ipython3",
   "version": "3.7.3"
  }
 },
 "nbformat": 4,
 "nbformat_minor": 2
}
