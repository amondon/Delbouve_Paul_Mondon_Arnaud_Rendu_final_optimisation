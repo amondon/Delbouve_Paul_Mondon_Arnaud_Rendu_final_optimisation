{
 "cells": [
  {
   "cell_type": "markdown",
   "metadata": {},
   "source": [
    "# Résolution - un seul véhicule\n",
    "## I - Définition des données et des fonctions communes aux différentes méthodes"
   ]
  },
  {
   "cell_type": "code",
   "execution_count": 13,
   "metadata": {},
   "outputs": [],
   "source": [
    "import matplotlib.pyplot as plt\n",
    "import numpy as np\n",
    "%matplotlib inline\n",
    "from scipy import optimize"
   ]
  },
  {
   "cell_type": "code",
   "execution_count": 10,
   "metadata": {},
   "outputs": [],
   "source": [
    "#données du problème :\n",
    "\n",
    "n=100#discretisation\n",
    "\n",
    "#temps:\n",
    "t0=0\n",
    "tf=299\n",
    "lt=np.linspace(t0,tf,n+1)\n",
    "\n",
    "#charge\n",
    "Qm=100\n",
    "c0=0.2\n",
    "cf=1\n",
    "\n",
    "#prix\n",
    "ph=1\n",
    "pb=0.5\n",
    "\n",
    "#Intensité\n",
    "Im=2"
   ]
  },
  {
   "cell_type": "code",
   "execution_count": 3,
   "metadata": {},
   "outputs": [
    {
     "data": {
      "image/png": "[encoded data removed]",
      "text/plain": [
       "<Figure size 432x288 with 1 Axes>"
      ]
     },
     "metadata": {
      "needs_background": "light"
     },
     "output_type": "display_data"
    }
   ],
   "source": [
    "def PrixHoraire(t,ph,pb):\n",
    "    n=np.floor(t)\n",
    "    if n%200 < 99:\n",
    "        return ph\n",
    "    else:\n",
    "        return pb\n",
    "    \n",
    "VPrixHoraire= np.vectorize(PrixHoraire)\n",
    "lprix=VPrixHoraire(lt,3,2)\n",
    "plt.plot(lt,lprix)\n",
    "plt.show()"
   ]
  },
  {
   "cell_type": "code",
   "execution_count": 4,
   "metadata": {},
   "outputs": [],
   "source": [
    "def charge(I): #donne la charge à tout temps(charge absolue, pas en %)\n",
    "    c=c0*Qm\n",
    "    charge=np.zeros(n)\n",
    "    for i in range (n):\n",
    "        Q=-(lt[i+1]-lt[i])*(I[i])\n",
    "        c+=Q\n",
    "        charge[i]=c\n",
    "    return charge"
   ]
  },
  {
   "cell_type": "code",
   "execution_count": null,
   "metadata": {},
   "outputs": [],
   "source": [
    "def fcout1(I): \n",
    "    S=0\n",
    "    listeS=[]\n",
    "    for i in range (n):\n",
    "        Q=-(lt[i+1]-lt[i])*I[i]\n",
    "        P=PrixHoraire(lt[i],ph,pb) #On suppose ici que l'on ne change pas de prix horaire sur l'intervalle listet[i], listet[i+1]\n",
    "        S+=P*Q\n",
    "        listeS.append(S)\n",
    "    return S,np.array(listeS)"
   ]
  },
  {
   "cell_type": "code",
   "execution_count": 6,
   "metadata": {},
   "outputs": [],
   "source": [
    "def I0(): #Intensité qui respecte les contraintes mais n'est pas optimale\n",
    "    res=np.zeros(n)\n",
    "    for i in range (n):\n",
    "        res[i]=-Qm*(cf-c0)/(tf-t0)\n",
    "    return(res)"
   ]
  },
  {
   "cell_type": "code",
   "execution_count": 7,
   "metadata": {},
   "outputs": [],
   "source": [
    "def affichage(I):    \n",
    "    lcout=fcout1(I)[1]\n",
    "    lcharge=charge(I)\n",
    "    lprix=VPrixHoraire(lt[0:n],3,2)\n",
    "    plt.plot(lt[0:n],lcout,'+',label=\"cout\")\n",
    "    plt.plot(lt[0:n],lcharge,'+',label=\"charge\")\n",
    "    plt.plot(lt[0:n],lprix,'+',label=\"prix\")\n",
    "    plt.plot(lt[0:n],I[:n],'+',label=\"intensité\")\n",
    "    plt.legend()\n",
    "    plt.plot()"
   ]
  },
  {
   "cell_type": "markdown",
   "metadata": {},
   "source": [
    "## II - Construction d'une solution optimale"
   ]
  },
  {
   "cell_type": "code",
   "execution_count": 8,
   "metadata": {},
   "outputs": [],
   "source": [
    "def algoM():\n",
    "    E=(cf-c0)*Qm #énergie à fournir\n",
    "    \n",
    "    #il faut connaitre le temps disponible en heures creuses/pleines\n",
    "    Tp=[]\n",
    "    Tc=[]\n",
    "    deltaT=lt[1]-lt[0]#pas de temps\n",
    "    for i in range (len(lt)-1):\n",
    "        m=np.floor(lt[i])\n",
    "        if m%200 < 99:\n",
    "            Tp.append(i)\n",
    "        else:\n",
    "            Tc.append(i)\n",
    "    tp=len(Tp)*deltaT #durée des heures pleines\n",
    "    tc=len(Tc)*deltaT #durée des heures creuses\n",
    "    \n",
    "    I=np.zeros(n)\n",
    "    \n",
    "    if (tf-t0)*Im<E:\n",
    "        return (\"le temps de chargement n'est pas suffisant\")\n",
    "    \n",
    "    elif tc*Im>E: #les heures creuses sont suffisantes \n",
    "        Ic=-E/tc\n",
    "        \n",
    "        for i in Tc:\n",
    "            I[i]=Ic\n",
    "        return I\n",
    "    \n",
    "    \n",
    "    #il faut charger au maximum pendant les heures creuses et compléter par les heures pleines\n",
    "    Ic=Im\n",
    "    for i in Tc:\n",
    "        I[i]=-Ic\n",
    "    Ec=tc*Im #énergie reçue pendant les heures creuses\n",
    "    Ip=(E-Ec)/tp\n",
    "    for i in Tp:\n",
    "        I[i]=-Ip\n",
    "    return I"
   ]
  },
  {
   "cell_type": "code",
   "execution_count": 11,
   "metadata": {},
   "outputs": [
    {
     "data": {
      "image/png": "[encoded data removed]",
      "text/plain": [
       "<Figure size 432x288 with 1 Axes>"
      ]
     },
     "metadata": {
      "needs_background": "light"
     },
     "output_type": "display_data"
    }
   ],
   "source": [
    "I=algoM()\n",
    "affichage(I)"
   ]
  },
  {
   "cell_type": "markdown",
   "metadata": {},
   "source": [
    "## III - Résolution avec Scipy"
   ]
  },
  {
   "cell_type": "code",
   "execution_count": 14,
   "metadata": {},
   "outputs": [
    {
     "data": {
      "image/png": "[encoded data removed]",
      "text/plain": [
       "<Figure size 432x288 with 1 Axes>"
      ]
     },
     "metadata": {
      "needs_background": "light"
     },
     "output_type": "display_data"
    }
   ],
   "source": [
    "F=np.array([(lt[i+1]-lt[i])*PrixHoraire(lt[i],ph,pb) for i in range (n)])\n",
    "\n",
    "# Contrainte égalité (chargement)\n",
    "\n",
    "\n",
    "Aeq=np.zeros ((1,n))\n",
    "Aeq[0,:]=np.array([lt[i+1]-lt[i] for i in range (n)])\n",
    "    \n",
    "Beq=np.zeros(1)\n",
    "Beq[0]=-(cf-c0)*Qm\n",
    "\n",
    "X=optimize.linprog(-F,A_ub=None,b_ub=None,A_eq=Aeq,b_eq=Beq,bounds=(-Im,0))\n",
    "\n",
    "I=X[\"x\"]\n",
    "affichage(I)\n"
   ]
  },
  {
   "cell_type": "markdown",
   "metadata": {},
   "source": [
    "# IV - Résolution par une méthode des points intérieurs (affine scaling)"
   ]
  },
  {
   "cell_type": "code",
   "execution_count": 15,
   "metadata": {},
   "outputs": [],
   "source": [
    "Tc=[]\n",
    "for i in range (len(lt)-1):\n",
    "    m=np.floor(lt[i])\n",
    "    if not m%200 < 99:\n",
    "        Tc.append(i)\n",
    "m=len(Tc) #nombre de contraintes à ajouter\n",
    "\n",
    "\n",
    "A=np.zeros ((1+m,n+m))\n",
    "    \n",
    "# Contrainte égalité (chargement)\n",
    "A[0][:n]=np.array([lt[i+1]-lt[i] for i in range (n)])\n",
    "#contraintes inégalites\n",
    "for i in range (m):\n",
    "    A[i+1,Tc[i]]=1\n",
    "    A[i+1,n+i]=1\n",
    "\n",
    "    \n",
    "B=np.zeros(1+m)\n",
    "B[0]=(cf-c0)*Qm\n",
    "for i in range(m):\n",
    "    B[i+1]=Im\n",
    "\n",
    "C=np.zeros(n+m)\n",
    "for i in range(n):\n",
    "    C[i]=PrixHoraire(lt[i],ph,pb)*(lt[i+1]-lt[i])"
   ]
  },
  {
   "cell_type": "code",
   "execution_count": 16,
   "metadata": {},
   "outputs": [],
   "source": [
    "def sup(x):\n",
    "    for i in range(len(x)):\n",
    "        if x[i]<0:\n",
    "            return 0\n",
    "    return 1"
   ]
  },
  {
   "cell_type": "code",
   "execution_count": 17,
   "metadata": {},
   "outputs": [],
   "source": [
    "def algoASA(max_iter=10000,epsi=1e-6,beta=0.9):\n",
    "\n",
    "    xk=-I0()\n",
    "\n",
    "    k=0\n",
    "    m=np.shape(A)[0]-1\n",
    "    Z=np.array([Im-xk[Tc[i]] for i in range (m)])#variables d'écarts\n",
    "    xk=np.concatenate((xk,Z),axis=0)\n",
    "    Xk=np.diag(xk)\n",
    "    e=np.array([1 for i in range(n+m)])\n",
    "    H1=np.matmul(np.matmul(A,Xk),np.matmul(Xk,np.transpose(A)))\n",
    "    H2=np.matmul(np.dot(A,Xk),np.dot(Xk,C))\n",
    "    pk=np.matmul(np.linalg.inv(H1),H2)\n",
    "    rk=C-np.dot(np.transpose(A),pk)\n",
    "    while k<max_iter:\n",
    "        if sup(rk) and np.dot(e,np.dot(Xk,rk))<epsi:\n",
    "            return xk\n",
    "        G=np.dot(np.dot(Xk,Xk),rk)\n",
    "        if sup(-G):\n",
    "            return (\"solution non finie\")\n",
    "        xk=xk-beta*G/np.linalg.norm(np.dot(Xk,rk))\n",
    "        Xk=np.diag(xk)\n",
    "        \n",
    "        H1=np.matmul(np.dot(A,Xk),np.matmul(Xk,np.transpose(A)))\n",
    "        H2=np.matmul(np.dot(A,Xk),np.matmul(Xk,C))\n",
    "        pk=np.matmul(np.linalg.inv(H1),H2)\n",
    "        rk=C-np.dot(np.transpose(A),pk)\n",
    "        k+=1\n",
    "        if k%500==0:\n",
    "            print(k)\n",
    "    \n",
    "    return xk"
   ]
  },
  {
   "cell_type": "code",
   "execution_count": 18,
   "metadata": {},
   "outputs": [
    {
     "data": {
      "image/png": "[encoded data removed]",
      "text/plain": [
       "<Figure size 432x288 with 1 Axes>"
      ]
     },
     "metadata": {
      "needs_background": "light"
     },
     "output_type": "display_data"
    }
   ],
   "source": [
    "I=-algoASA()\n",
    "affichage(I)"
   ]
  },
  {
   "cell_type": "code",
   "execution_count": null,
   "metadata": {},
   "outputs": [],
   "source": []
  }
 ],
 "metadata": {
  "kernelspec": {
   "display_name": "Python 3",
   "language": "python",
   "name": "python3"
  },
  "language_info": {
   "codemirror_mode": {
    "name": "ipython",
    "version": 3
   },
   "file_extension": ".py",
   "mimetype": "text/x-python",
   "name": "python",
   "nbconvert_exporter": "python",
   "pygments_lexer": "ipython3",
   "version": "3.7.3"
  }
 },
 "nbformat": 4,
 "nbformat_minor": 2
}
