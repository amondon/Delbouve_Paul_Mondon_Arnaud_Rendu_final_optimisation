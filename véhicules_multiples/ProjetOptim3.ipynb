{
 "cells": [
  {
   "cell_type": "code",
   "execution_count": 2,
   "metadata": {},
   "outputs": [],
   "source": [
    "%matplotlib inline\n",
    "import matplotlib.pyplot as plt\n",
    "import numpy as np\n"
   ]
  },
  {
   "cell_type": "code",
   "execution_count": 3,
   "metadata": {},
   "outputs": [],
   "source": [
    "\n",
    "n=10 #nombre de discretisation\n",
    "Qm=10 #charge max\n",
    "x0=0\n",
    "xf=200\n",
    "listet=np.linspace(x0,xf,n+1)\n",
    "len(listet)\n",
    "K=3\n",
    "Qmax=[10 for i in range (K)]\n",
    "T=[[0,50],[20,180],[90,180]]\n",
    "C=[[30,50],[60,90],[20,35]]\n",
    "Imax=10"
   ]
  },
  {
   "cell_type": "code",
   "execution_count": 4,
   "metadata": {},
   "outputs": [],
   "source": [
    "def PrixHoraire(t,ph,pb):\n",
    "    n=np.floor(t)\n",
    "    if n%50 < 24:\n",
    "        return ph\n",
    "    else:\n",
    "        return pb"
   ]
  },
  {
   "cell_type": "markdown",
   "metadata": {},
   "source": [
    "I est une matrice I=[I1,...,Ik] ou chaque Ik est une liste qui contient l'intensité pour chaque temps pour la voiture k"
   ]
  },
  {
   "cell_type": "code",
   "execution_count": 6,
   "metadata": {},
   "outputs": [],
   "source": [
    "def fcoutk(k,I,n):\n",
    "    s=0\n",
    "    for i in range (n-1):\n",
    "        s+=I[k][i]*(listet[i+1]-listet[i])\n",
    "    return s"
   ]
  },
  {
   "cell_type": "code",
   "execution_count": 7,
   "metadata": {},
   "outputs": [],
   "source": [
    "def fcout(I,n):\n",
    "    s=0\n",
    "    for k in range (len(I)):\n",
    "        s+=fcoutk(k,I,n)\n",
    "    return s\n",
    "        "
   ]
  },
  {
   "cell_type": "markdown",
   "metadata": {},
   "source": [
    "On construit maintenant les fonctions contraintes, on l'écrit sous la forme $c_1(y_1^1,....,y_n^1)+....+c_k(y_1^k,....,y_n^k)$\n",
    "\n",
    "Qmax est la liste des $Qm^k$\n",
    "\n",
    "T est la liste des temps d'arrivé et de départ\n",
    "\n",
    "$k \\in \\{0,...,K-1\\}$"
   ]
  },
  {
   "cell_type": "code",
   "execution_count": 99,
   "metadata": {},
   "outputs": [],
   "source": [
    "def ck(k,Qmax,T):\n",
    "    K=len(Qmax)#pour obtenir le nombre de véhicules\n",
    "    A=np.zeros((2n+2*n*K+2*K+2*n*K,n))\n",
    "    #contrainte de réseau\n",
    "    for i in range(n):\n",
    "        A[i,2*i]=1\n",
    "        A[i,2*i+1]=-1\n",
    "    #contrainte de borne\n",
    "    for i in range(n):\n",
    "        A[2*i+n*(k+1),i]=1\n",
    "        A[2*i+1+n*(k+1),i]=-1\n",
    "    #contrainte de chargement\n",
    "    for j in range (n):\n",
    "        A[n*(1+2*K)+k,j]=listet[j+1]-listet[j]\n",
    "        A[n*(1+2*K)+k+1,j]=-(listet[j+1]-listet[j])\n",
    "    #contrainte de présence\n",
    "    x0k,xfk=T[k]\n",
    "    for i in range (n):\n",
    "        if listet[i]<x0k or listet[i]>=xfk:\n",
    "            A[2*i+n*(2*K+1)+2*K+(k)*2*n,i]=1\n",
    "            A[2*i+1+n*(2*K+1)+2*K+(k)*2*n,i]=-1\n",
    "    return A"
   ]
  },
  {
   "cell_type": "code",
   "execution_count": 100,
   "metadata": {},
   "outputs": [
    {
     "data": {
      "text/plain": [
       "(136, 10)"
      ]
     },
     "execution_count": 100,
     "metadata": {},
     "output_type": "execute_result"
    }
   ],
   "source": [
    "np.shape(ck(1,Qmax,T))"
   ]
  },
  {
   "cell_type": "code",
   "execution_count": 101,
   "metadata": {},
   "outputs": [],
   "source": [
    "def print_matrice(A):\n",
    "    s=\"\"\n",
    "    m,n=np.shape(A)\n",
    "    for i in range (m):\n",
    "        s+=\"[\"\n",
    "        for j in range (n):\n",
    "            s+=str(A[i,j])+\",\"\n",
    "        s+=\"] \\n\"\n",
    "    print(s)"
   ]
  },
  {
   "cell_type": "code",
   "execution_count": 48,
   "metadata": {},
   "outputs": [
    {
     "name": "stdout",
     "output_type": "stream",
     "text": [
      "[-1.0,0.0,0.0,0.0,0.0,0.0,0.0,0.0,0.0,0.0,] \n",
      "[0.0,-1.0,0.0,0.0,0.0,0.0,0.0,0.0,0.0,0.0,] \n",
      "[0.0,0.0,-1.0,0.0,0.0,0.0,0.0,0.0,0.0,0.0,] \n",
      "[0.0,0.0,0.0,-1.0,0.0,0.0,0.0,0.0,0.0,0.0,] \n",
      "[0.0,0.0,0.0,0.0,-1.0,0.0,0.0,0.0,0.0,0.0,] \n",
      "[0.0,0.0,0.0,0.0,0.0,-1.0,0.0,0.0,0.0,0.0,] \n",
      "[0.0,0.0,0.0,0.0,0.0,0.0,-1.0,0.0,0.0,0.0,] \n",
      "[0.0,0.0,0.0,0.0,0.0,0.0,0.0,-1.0,0.0,0.0,] \n",
      "[0.0,0.0,0.0,0.0,0.0,0.0,0.0,0.0,-1.0,0.0,] \n",
      "[0.0,0.0,0.0,0.0,0.0,0.0,0.0,0.0,0.0,-1.0,] \n",
      "[1.0,0.0,0.0,0.0,0.0,0.0,0.0,0.0,0.0,0.0,] \n",
      "[-1.0,0.0,0.0,0.0,0.0,0.0,0.0,0.0,0.0,0.0,] \n",
      "[0.0,1.0,0.0,0.0,0.0,0.0,0.0,0.0,0.0,0.0,] \n",
      "[0.0,-1.0,0.0,0.0,0.0,0.0,0.0,0.0,0.0,0.0,] \n",
      "[0.0,0.0,1.0,0.0,0.0,0.0,0.0,0.0,0.0,0.0,] \n",
      "[0.0,0.0,-1.0,0.0,0.0,0.0,0.0,0.0,0.0,0.0,] \n",
      "[0.0,0.0,0.0,1.0,0.0,0.0,0.0,0.0,0.0,0.0,] \n",
      "[0.0,0.0,0.0,-1.0,0.0,0.0,0.0,0.0,0.0,0.0,] \n",
      "[0.0,0.0,0.0,0.0,1.0,0.0,0.0,0.0,0.0,0.0,] \n",
      "[0.0,0.0,0.0,0.0,-1.0,0.0,0.0,0.0,0.0,0.0,] \n",
      "[0.0,0.0,0.0,0.0,0.0,1.0,0.0,0.0,0.0,0.0,] \n",
      "[0.0,0.0,0.0,0.0,0.0,-1.0,0.0,0.0,0.0,0.0,] \n",
      "[0.0,0.0,0.0,0.0,0.0,0.0,1.0,0.0,0.0,0.0,] \n",
      "[0.0,0.0,0.0,0.0,0.0,0.0,-1.0,0.0,0.0,0.0,] \n",
      "[0.0,0.0,0.0,0.0,0.0,0.0,0.0,1.0,0.0,0.0,] \n",
      "[0.0,0.0,0.0,0.0,0.0,0.0,0.0,-1.0,0.0,0.0,] \n",
      "[0.0,0.0,0.0,0.0,0.0,0.0,0.0,0.0,1.0,0.0,] \n",
      "[0.0,0.0,0.0,0.0,0.0,0.0,0.0,0.0,-1.0,0.0,] \n",
      "[0.0,0.0,0.0,0.0,0.0,0.0,0.0,0.0,0.0,1.0,] \n",
      "[0.0,0.0,0.0,0.0,0.0,0.0,0.0,0.0,0.0,-1.0,] \n",
      "[0.0,0.0,0.0,0.0,0.0,0.0,0.0,0.0,0.0,0.0,] \n",
      "[0.0,0.0,0.0,0.0,0.0,0.0,0.0,0.0,0.0,0.0,] \n",
      "[0.0,0.0,0.0,0.0,0.0,0.0,0.0,0.0,0.0,0.0,] \n",
      "[0.0,0.0,0.0,0.0,0.0,0.0,0.0,0.0,0.0,0.0,] \n",
      "[0.0,0.0,0.0,0.0,0.0,0.0,0.0,0.0,0.0,0.0,] \n",
      "[0.0,0.0,0.0,0.0,0.0,0.0,0.0,0.0,0.0,0.0,] \n",
      "[0.0,0.0,0.0,0.0,0.0,0.0,0.0,0.0,0.0,0.0,] \n",
      "[0.0,0.0,0.0,0.0,0.0,0.0,0.0,0.0,0.0,0.0,] \n",
      "[0.0,0.0,0.0,0.0,0.0,0.0,0.0,0.0,0.0,0.0,] \n",
      "[0.0,0.0,0.0,0.0,0.0,0.0,0.0,0.0,0.0,0.0,] \n",
      "[0.0,0.0,0.0,0.0,0.0,0.0,0.0,0.0,0.0,0.0,] \n",
      "[0.0,0.0,0.0,0.0,0.0,0.0,0.0,0.0,0.0,0.0,] \n",
      "[0.0,0.0,0.0,0.0,0.0,0.0,0.0,0.0,0.0,0.0,] \n",
      "[0.0,0.0,0.0,0.0,0.0,0.0,0.0,0.0,0.0,0.0,] \n",
      "[0.0,0.0,0.0,0.0,0.0,0.0,0.0,0.0,0.0,0.0,] \n",
      "[0.0,0.0,0.0,0.0,0.0,0.0,0.0,0.0,0.0,0.0,] \n",
      "[0.0,0.0,0.0,0.0,0.0,0.0,0.0,0.0,0.0,0.0,] \n",
      "[0.0,0.0,0.0,0.0,0.0,0.0,0.0,0.0,0.0,0.0,] \n",
      "[0.0,0.0,0.0,0.0,0.0,0.0,0.0,0.0,0.0,0.0,] \n",
      "[0.0,0.0,0.0,0.0,0.0,0.0,0.0,0.0,0.0,0.0,] \n",
      "[0.0,0.0,0.0,0.0,0.0,0.0,0.0,0.0,0.0,0.0,] \n",
      "[0.0,0.0,0.0,0.0,0.0,0.0,0.0,0.0,0.0,0.0,] \n",
      "[0.0,0.0,0.0,0.0,0.0,0.0,0.0,0.0,0.0,0.0,] \n",
      "[0.0,0.0,0.0,0.0,0.0,0.0,0.0,0.0,0.0,0.0,] \n",
      "[0.0,0.0,0.0,0.0,0.0,0.0,0.0,0.0,0.0,0.0,] \n",
      "[0.0,0.0,0.0,0.0,0.0,0.0,0.0,0.0,0.0,0.0,] \n",
      "[0.0,0.0,0.0,0.0,0.0,0.0,0.0,0.0,0.0,0.0,] \n",
      "[0.0,0.0,0.0,0.0,0.0,0.0,0.0,0.0,0.0,0.0,] \n",
      "[0.0,0.0,0.0,0.0,0.0,0.0,0.0,0.0,0.0,0.0,] \n",
      "[0.0,0.0,0.0,0.0,0.0,0.0,0.0,0.0,0.0,0.0,] \n",
      "[0.0,0.0,0.0,0.0,0.0,0.0,0.0,0.0,0.0,0.0,] \n",
      "[0.0,0.0,0.0,0.0,0.0,0.0,0.0,0.0,0.0,0.0,] \n",
      "[0.0,0.0,0.0,0.0,0.0,0.0,0.0,0.0,0.0,0.0,] \n",
      "[0.0,0.0,0.0,0.0,0.0,0.0,0.0,0.0,0.0,0.0,] \n",
      "[0.0,0.0,0.0,0.0,0.0,0.0,0.0,0.0,0.0,0.0,] \n",
      "[0.0,0.0,0.0,0.0,0.0,0.0,0.0,0.0,0.0,0.0,] \n",
      "[0.0,0.0,0.0,0.0,0.0,0.0,0.0,0.0,0.0,0.0,] \n",
      "[0.0,0.0,0.0,0.0,0.0,0.0,0.0,0.0,0.0,0.0,] \n",
      "[0.0,0.0,0.0,0.0,0.0,0.0,0.0,0.0,0.0,0.0,] \n",
      "[0.0,0.0,0.0,0.0,0.0,0.0,0.0,0.0,0.0,0.0,] \n",
      "[20.0,20.0,20.0,20.0,20.0,20.0,20.0,20.0,20.0,20.0,] \n",
      "[-20.0,-20.0,-20.0,-20.0,-20.0,-20.0,-20.0,-20.0,-20.0,-20.0,] \n",
      "[0.0,0.0,0.0,0.0,0.0,0.0,0.0,0.0,0.0,0.0,] \n",
      "[0.0,0.0,0.0,0.0,0.0,0.0,0.0,0.0,0.0,0.0,] \n",
      "[0.0,0.0,0.0,0.0,0.0,0.0,0.0,0.0,0.0,0.0,] \n",
      "[0.0,0.0,0.0,0.0,0.0,0.0,0.0,0.0,0.0,0.0,] \n",
      "[0.0,0.0,0.0,0.0,0.0,0.0,0.0,0.0,0.0,0.0,] \n",
      "[0.0,0.0,0.0,0.0,0.0,0.0,0.0,0.0,0.0,0.0,] \n",
      "[0.0,0.0,0.0,0.0,0.0,0.0,0.0,0.0,0.0,0.0,] \n",
      "[0.0,0.0,0.0,0.0,0.0,0.0,0.0,0.0,0.0,0.0,] \n",
      "[0.0,0.0,0.0,0.0,0.0,0.0,0.0,0.0,0.0,0.0,] \n",
      "[0.0,0.0,0.0,0.0,0.0,0.0,0.0,0.0,0.0,0.0,] \n",
      "[0.0,0.0,0.0,1.0,0.0,0.0,0.0,0.0,0.0,0.0,] \n",
      "[0.0,0.0,0.0,-1.0,0.0,0.0,0.0,0.0,0.0,0.0,] \n",
      "[0.0,0.0,0.0,0.0,1.0,0.0,0.0,0.0,0.0,0.0,] \n",
      "[0.0,0.0,0.0,0.0,-1.0,0.0,0.0,0.0,0.0,0.0,] \n",
      "[0.0,0.0,0.0,0.0,0.0,1.0,0.0,0.0,0.0,0.0,] \n",
      "[0.0,0.0,0.0,0.0,0.0,-1.0,0.0,0.0,0.0,0.0,] \n",
      "[0.0,0.0,0.0,0.0,0.0,0.0,1.0,0.0,0.0,0.0,] \n",
      "[0.0,0.0,0.0,0.0,0.0,0.0,-1.0,0.0,0.0,0.0,] \n",
      "[0.0,0.0,0.0,0.0,0.0,0.0,0.0,1.0,0.0,0.0,] \n",
      "[0.0,0.0,0.0,0.0,0.0,0.0,0.0,-1.0,0.0,0.0,] \n",
      "[0.0,0.0,0.0,0.0,0.0,0.0,0.0,0.0,1.0,0.0,] \n",
      "[0.0,0.0,0.0,0.0,0.0,0.0,0.0,0.0,-1.0,0.0,] \n",
      "[0.0,0.0,0.0,0.0,0.0,0.0,0.0,0.0,0.0,1.0,] \n",
      "[0.0,0.0,0.0,0.0,0.0,0.0,0.0,0.0,0.0,-1.0,] \n",
      "[0.0,0.0,0.0,0.0,0.0,0.0,0.0,0.0,0.0,0.0,] \n",
      "[0.0,0.0,0.0,0.0,0.0,0.0,0.0,0.0,0.0,0.0,] \n",
      "[0.0,0.0,0.0,0.0,0.0,0.0,0.0,0.0,0.0,0.0,] \n",
      "[0.0,0.0,0.0,0.0,0.0,0.0,0.0,0.0,0.0,0.0,] \n",
      "[0.0,0.0,0.0,0.0,0.0,0.0,0.0,0.0,0.0,0.0,] \n",
      "[0.0,0.0,0.0,0.0,0.0,0.0,0.0,0.0,0.0,0.0,] \n",
      "[0.0,0.0,0.0,0.0,0.0,0.0,0.0,0.0,0.0,0.0,] \n",
      "[0.0,0.0,0.0,0.0,0.0,0.0,0.0,0.0,0.0,0.0,] \n",
      "[0.0,0.0,0.0,0.0,0.0,0.0,0.0,0.0,0.0,0.0,] \n",
      "[0.0,0.0,0.0,0.0,0.0,0.0,0.0,0.0,0.0,0.0,] \n",
      "[0.0,0.0,0.0,0.0,0.0,0.0,0.0,0.0,0.0,0.0,] \n",
      "[0.0,0.0,0.0,0.0,0.0,0.0,0.0,0.0,0.0,0.0,] \n",
      "[0.0,0.0,0.0,0.0,0.0,0.0,0.0,0.0,0.0,0.0,] \n",
      "[0.0,0.0,0.0,0.0,0.0,0.0,0.0,0.0,0.0,0.0,] \n",
      "[0.0,0.0,0.0,0.0,0.0,0.0,0.0,0.0,0.0,0.0,] \n",
      "[0.0,0.0,0.0,0.0,0.0,0.0,0.0,0.0,0.0,0.0,] \n",
      "[0.0,0.0,0.0,0.0,0.0,0.0,0.0,0.0,0.0,0.0,] \n",
      "[0.0,0.0,0.0,0.0,0.0,0.0,0.0,0.0,0.0,0.0,] \n",
      "[0.0,0.0,0.0,0.0,0.0,0.0,0.0,0.0,0.0,0.0,] \n",
      "[0.0,0.0,0.0,0.0,0.0,0.0,0.0,0.0,0.0,0.0,] \n",
      "[0.0,0.0,0.0,0.0,0.0,0.0,0.0,0.0,0.0,0.0,] \n",
      "[0.0,0.0,0.0,0.0,0.0,0.0,0.0,0.0,0.0,0.0,] \n",
      "[0.0,0.0,0.0,0.0,0.0,0.0,0.0,0.0,0.0,0.0,] \n",
      "[0.0,0.0,0.0,0.0,0.0,0.0,0.0,0.0,0.0,0.0,] \n",
      "[0.0,0.0,0.0,0.0,0.0,0.0,0.0,0.0,0.0,0.0,] \n",
      "[0.0,0.0,0.0,0.0,0.0,0.0,0.0,0.0,0.0,0.0,] \n",
      "[0.0,0.0,0.0,0.0,0.0,0.0,0.0,0.0,0.0,0.0,] \n",
      "[0.0,0.0,0.0,0.0,0.0,0.0,0.0,0.0,0.0,0.0,] \n",
      "[0.0,0.0,0.0,0.0,0.0,0.0,0.0,0.0,0.0,0.0,] \n",
      "[0.0,0.0,0.0,0.0,0.0,0.0,0.0,0.0,0.0,0.0,] \n",
      "[0.0,0.0,0.0,0.0,0.0,0.0,0.0,0.0,0.0,0.0,] \n",
      "[0.0,0.0,0.0,0.0,0.0,0.0,0.0,0.0,0.0,0.0,] \n",
      "[0.0,0.0,0.0,0.0,0.0,0.0,0.0,0.0,0.0,0.0,] \n",
      "[0.0,0.0,0.0,0.0,0.0,0.0,0.0,0.0,0.0,0.0,] \n",
      "[0.0,0.0,0.0,0.0,0.0,0.0,0.0,0.0,0.0,0.0,] \n",
      "[0.0,0.0,0.0,0.0,0.0,0.0,0.0,0.0,0.0,0.0,] \n",
      "[0.0,0.0,0.0,0.0,0.0,0.0,0.0,0.0,0.0,0.0,] \n",
      "[0.0,0.0,0.0,0.0,0.0,0.0,0.0,0.0,0.0,0.0,] \n",
      "[0.0,0.0,0.0,0.0,0.0,0.0,0.0,0.0,0.0,0.0,] \n",
      "[0.0,0.0,0.0,0.0,0.0,0.0,0.0,0.0,0.0,0.0,] \n",
      "\n"
     ]
    }
   ],
   "source": [
    "print_matrice(ck(1,Qmax,T))"
   ]
  },
  {
   "cell_type": "code",
   "execution_count": 102,
   "metadata": {},
   "outputs": [],
   "source": [
    "def c(I,Qmax,T,Imax,C):\n",
    "    K=len(Qmax)\n",
    "    b=np.zeros((n+2*n*K+2*K+2*n*K,1))\n",
    "    #contrainte de réseau\n",
    "    for i in range (n):\n",
    "        b[i,0]=Imax\n",
    "    #contrainte de borne\n",
    "    for i in range(2*n*K):\n",
    "        b[i+n,0]=Imax\n",
    "    #contrainte de chargement\n",
    "    for k in range (K):\n",
    "        c0k,cfk=C[k]\n",
    "        b[n+2*n*K+2*k,0]=Qmax[k]*(cfk-c0k)\n",
    "        b[n+2*n*K+2*k+1,0]=-Qmax[k]*(cfk-c0k)\n",
    "    #contrainte de présence (rien à faire car ce sont des inégalités avec 0)\n",
    "    \n",
    "    D=np.zeros((n+2*n*K+2*K+2*n*K,1))\n",
    "    \n",
    "    for k in range (K):\n",
    "        yk=np.array(I[k])\n",
    "        \n",
    "        D+=np.dot(ck(k,Qmax,T),yk.reshape((n,1)))\n",
    "    return D-b"
   ]
  },
  {
   "cell_type": "markdown",
   "metadata": {},
   "source": [
    "On définit une intensité qui soit valable pour vérifier que les contraintes soient bien écrites, cette intensité sera le point de départ de l'algorithme d'optimisation."
   ]
  },
  {
   "cell_type": "code",
   "execution_count": 103,
   "metadata": {},
   "outputs": [],
   "source": [
    "def I0(Qmax,T,Imax,C):\n",
    "    K=len(Qmax)\n",
    "    I=[[0 for i in range(n)] for j in range(K)]\n",
    "    for k in range(K):\n",
    "        c0k,cfk=C[k]\n",
    "        x0k,xfk=T[k]\n",
    "        Ik=Qmax[k]*(cfk-c0k)/(xfk-x0k)\n",
    "        for i in range(n):\n",
    "            if listet[i]>=x0k and listet[i]<xfk:\n",
    "                I[k][i]=Ik\n",
    "    return I\n",
    "        \n",
    "    "
   ]
  },
  {
   "cell_type": "code",
   "execution_count": 104,
   "metadata": {},
   "outputs": [
    {
     "data": {
      "text/plain": [
       "[[4.0, 4.0, 4.0, 0, 0, 0, 0, 0, 0, 0],\n",
       " [0, 1.875, 1.875, 1.875, 1.875, 1.875, 1.875, 1.875, 1.875, 0],\n",
       " [0,\n",
       "  0,\n",
       "  0,\n",
       "  0,\n",
       "  0,\n",
       "  1.6666666666666667,\n",
       "  1.6666666666666667,\n",
       "  1.6666666666666667,\n",
       "  1.6666666666666667,\n",
       "  0]]"
      ]
     },
     "execution_count": 104,
     "metadata": {},
     "output_type": "execute_result"
    }
   ],
   "source": [
    "I0(Qmax,T,Imax,C)"
   ]
  },
  {
   "cell_type": "code",
   "execution_count": 105,
   "metadata": {},
   "outputs": [],
   "source": [
    "def affichage(Qmax,I,T,C,Imax):\n",
    "    K=len(Qmax)\n",
    "    for k in range(K):\n",
    "        \n",
    "        plt.plot(listet[:n],I[k],label=f\"voiture {k}\")\n",
    "    plt.legend()\n",
    "    plt.show()"
   ]
  },
  {
   "cell_type": "code",
   "execution_count": 106,
   "metadata": {},
   "outputs": [
    {
     "data": {
      "image/png": "[encoded data removed]",
      "text/plain": [
       "<Figure size 432x288 with 1 Axes>"
      ]
     },
     "metadata": {
      "needs_background": "light"
     },
     "output_type": "display_data"
    }
   ],
   "source": [
    "affichage(Qmax,I0(Qmax,T,Imax,C),T,C,Imax)"
   ]
  },
  {
   "cell_type": "code",
   "execution_count": 107,
   "metadata": {},
   "outputs": [
    {
     "data": {
      "text/plain": [
       "array([[15.   ],\n",
       "       [28.125],\n",
       "       [12.5  ]])"
      ]
     },
     "execution_count": 107,
     "metadata": {},
     "output_type": "execute_result"
    }
   ],
   "source": [
    "A=np.array(I0(Qmax,T,Imax,C))\n",
    "A[1]\n",
    "A[1].reshape((10,1))\n",
    "np.dot(A,A[1].reshape((10,1)))"
   ]
  },
  {
   "cell_type": "code",
   "execution_count": 108,
   "metadata": {},
   "outputs": [],
   "source": [
    "def check_contraintes(I,Qmax,T,Imax,C):\n",
    "    cont=c(I,Qmax,T,Imax,C)\n",
    "    print(np.shape(cont))\n",
    "    #contrainte de réseau\n",
    "    flag1=\"OK\"\n",
    "    for i in range (n):\n",
    "        if cont[i]>0:\n",
    "            flag1=\"NO\"\n",
    "            break\n",
    "    print(f\"contraine de réseau : {flag1}\")\n",
    "    #contrainte de borne\n",
    "    flag2=\"OK\"\n",
    "    for i in range(2*n*K):\n",
    "        if cont[i+n]>0:\n",
    "            flag2=\"NO\"\n",
    "            break\n",
    "    print(f\"contraine de borne : {flag2}\")\n",
    "    #contrainte de chargement\n",
    "    flag3=\"OK\"\n",
    "    for i in range (2*K):\n",
    "        if cont[i+n+2*n*K]>0:\n",
    "            flag3=\"NO\"\n",
    "            break\n",
    "    print(f\"contraine de chargement : {flag3}\")\n",
    "    #contrainte de presence\n",
    "    flag4=\"OK\"\n",
    "    for i in range (2*K*n):\n",
    "        if cont[i+n+2*n*K+2*K]>0:\n",
    "            flag4=\"NO\"\n",
    "            break\n",
    "    print(f\"contraine de présence : {flag4}\")\n",
    "    return cont\n",
    "        "
   ]
  },
  {
   "cell_type": "code",
   "execution_count": 109,
   "metadata": {},
   "outputs": [
    {
     "name": "stdout",
     "output_type": "stream",
     "text": [
      "(136, 1)\n",
      "contraine de réseau : OK\n",
      "contraine de borne : OK\n",
      "contraine de chargement : NO\n",
      "contraine de présence : OK\n",
      "[-14.0,] \n",
      "[-15.875,] \n",
      "[-15.875,] \n",
      "[-11.875,] \n",
      "[-11.875,] \n",
      "[-13.541666666666668,] \n",
      "[-13.541666666666668,] \n",
      "[-13.541666666666668,] \n",
      "[-13.541666666666668,] \n",
      "[-10.0,] \n",
      "[-6.0,] \n",
      "[-14.0,] \n",
      "[-6.0,] \n",
      "[-14.0,] \n",
      "[-6.0,] \n",
      "[-14.0,] \n",
      "[-10.0,] \n",
      "[-10.0,] \n",
      "[-10.0,] \n",
      "[-10.0,] \n",
      "[-10.0,] \n",
      "[-10.0,] \n",
      "[-8.125,] \n",
      "[-11.875,] \n",
      "[-8.125,] \n",
      "[-11.875,] \n",
      "[-8.125,] \n",
      "[-11.875,] \n",
      "[-8.125,] \n",
      "[-11.875,] \n",
      "[-8.125,] \n",
      "[-11.875,] \n",
      "[-8.125,] \n",
      "[-11.875,] \n",
      "[-8.125,] \n",
      "[-11.875,] \n",
      "[-8.125,] \n",
      "[-11.875,] \n",
      "[-10.0,] \n",
      "[-10.0,] \n",
      "[-8.333333333333334,] \n",
      "[-11.666666666666666,] \n",
      "[-8.333333333333334,] \n",
      "[-11.666666666666666,] \n",
      "[-8.333333333333334,] \n",
      "[-11.666666666666666,] \n",
      "[-8.333333333333334,] \n",
      "[-11.666666666666666,] \n",
      "[-10.0,] \n",
      "[-10.0,] \n",
      "[-10.0,] \n",
      "[-10.0,] \n",
      "[-10.0,] \n",
      "[-10.0,] \n",
      "[-10.0,] \n",
      "[-10.0,] \n",
      "[-10.0,] \n",
      "[-10.0,] \n",
      "[-10.0,] \n",
      "[-10.0,] \n",
      "[-10.0,] \n",
      "[-10.0,] \n",
      "[-10.0,] \n",
      "[-10.0,] \n",
      "[-10.0,] \n",
      "[-10.0,] \n",
      "[-10.0,] \n",
      "[-10.0,] \n",
      "[-10.0,] \n",
      "[-10.0,] \n",
      "[40.0,] \n",
      "[260.0,] \n",
      "[-466.66666666666663,] \n",
      "[166.66666666666666,] \n",
      "[-150.0,] \n",
      "[150.0,] \n",
      "[0.0,] \n",
      "[0.0,] \n",
      "[0.0,] \n",
      "[0.0,] \n",
      "[0.0,] \n",
      "[0.0,] \n",
      "[0.0,] \n",
      "[0.0,] \n",
      "[0.0,] \n",
      "[0.0,] \n",
      "[0.0,] \n",
      "[0.0,] \n",
      "[0.0,] \n",
      "[0.0,] \n",
      "[0.0,] \n",
      "[0.0,] \n",
      "[0.0,] \n",
      "[0.0,] \n",
      "[0.0,] \n",
      "[0.0,] \n",
      "[0.0,] \n",
      "[0.0,] \n",
      "[0.0,] \n",
      "[0.0,] \n",
      "[0.0,] \n",
      "[0.0,] \n",
      "[0.0,] \n",
      "[0.0,] \n",
      "[0.0,] \n",
      "[0.0,] \n",
      "[0.0,] \n",
      "[0.0,] \n",
      "[0.0,] \n",
      "[0.0,] \n",
      "[0.0,] \n",
      "[0.0,] \n",
      "[0.0,] \n",
      "[0.0,] \n",
      "[0.0,] \n",
      "[0.0,] \n",
      "[0.0,] \n",
      "[0.0,] \n",
      "[0.0,] \n",
      "[0.0,] \n",
      "[0.0,] \n",
      "[0.0,] \n",
      "[0.0,] \n",
      "[0.0,] \n",
      "[0.0,] \n",
      "[0.0,] \n",
      "[0.0,] \n",
      "[0.0,] \n",
      "[0.0,] \n",
      "[0.0,] \n",
      "[0.0,] \n",
      "[0.0,] \n",
      "[0.0,] \n",
      "[0.0,] \n",
      "[0.0,] \n",
      "[0.0,] \n",
      "\n"
     ]
    }
   ],
   "source": [
    "print_matrice(check_contraintes(I0(Qmax,T,Imax,C),Qmax,T,Imax,C))"
   ]
  },
  {
   "cell_type": "code",
   "execution_count": null,
   "metadata": {},
   "outputs": [],
   "source": []
  }
 ],
 "metadata": {
  "kernelspec": {
   "display_name": "Python 3",
   "language": "python",
   "name": "python3"
  },
  "language_info": {
   "codemirror_mode": {
    "name": "ipython",
    "version": 3
   },
   "file_extension": ".py",
   "mimetype": "text/x-python",
   "name": "python",
   "nbconvert_exporter": "python",
   "pygments_lexer": "ipython3",
   "version": "3.7.3"
  }
 },
 "nbformat": 4,
 "nbformat_minor": 2
}
