{
 "cells": [
  {
   "cell_type": "code",
   "execution_count": 2,
   "metadata": {},
   "outputs": [],
   "source": [
    "%matplotlib inline\n",
    "import matplotlib.pyplot as plt\n",
    "import numpy as np\n"
   ]
  },
  {
   "cell_type": "code",
   "execution_count": null,
   "metadata": {},
   "outputs": [],
   "source": [
    "int n #nombre de discretisation\n",
    "int Qm=10 #charge max\n",
    "int x0\n",
    "int xf\n",
    "listet=np.linspace(x0,xf,n)"
   ]
  },
  {
   "cell_type": "code",
   "execution_count": null,
   "metadata": {},
   "outputs": [],
   "source": [
    "def PrixHoraire(t,ph,pb):\n",
    "    n=np.floor(t)\n",
    "    if n%50 < 24:\n",
    "        return ph\n",
    "    else:\n",
    "        return pb"
   ]
  },
  {
   "cell_type": "markdown",
   "metadata": {},
   "source": [
    "I est une matrice I=[I1,...,Ik] ou chaque Ik est une liste qui contient l'intensité pour chaque temps pour la voiture k"
   ]
  },
  {
   "cell_type": "code",
   "execution_count": 3,
   "metadata": {},
   "outputs": [],
   "source": [
    "def fcoutk(k,I,n):\n",
    "    s=0\n",
    "    for i in range (n-1):\n",
    "        s+=I[k][i]*(listet[i+1]-listet[i])\n",
    "    return s"
   ]
  },
  {
   "cell_type": "code",
   "execution_count": 5,
   "metadata": {},
   "outputs": [],
   "source": [
    "def fcout(I,n):\n",
    "    s=0\n",
    "    for k in range (len(I)):\n",
    "        s+=fcoutk(k,I,n)\n",
    "    return s\n",
    "        "
   ]
  },
  {
   "cell_type": "code",
   "execution_count": null,
   "metadata": {},
   "outputs": [],
   "source": []
  }
 ],
 "metadata": {
  "kernelspec": {
   "display_name": "Python 3",
   "language": "python",
   "name": "python3"
  },
  "language_info": {
   "codemirror_mode": {
    "name": "ipython",
    "version": 3
   },
   "file_extension": ".py",
   "mimetype": "text/x-python",
   "name": "python",
   "nbconvert_exporter": "python",
   "pygments_lexer": "ipython3",
   "version": "3.7.3"
  }
 },
 "nbformat": 4,
 "nbformat_minor": 2
}
