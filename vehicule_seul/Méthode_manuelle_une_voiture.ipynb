{
 "cells": [
  {
   "cell_type": "code",
   "execution_count": 50,
   "metadata": {},
   "outputs": [],
   "source": [
    "import matplotlib.pyplot as plt\n",
    "import numpy as np\n",
    "%matplotlib inline"
   ]
  },
  {
   "cell_type": "code",
   "execution_count": 51,
   "metadata": {},
   "outputs": [],
   "source": [
    "#données du problème :\n",
    "\n",
    "n=100 #discretisation\n",
    "\n",
    "#temps:\n",
    "t0=0\n",
    "tf=299\n",
    "lt=np.linspace(t0,tf,n+1)\n",
    "\n",
    "#charge\n",
    "Qm=10\n",
    "c0=0.2\n",
    "cf=1\n",
    "\n",
    "#prix\n",
    "ph=1\n",
    "pb=0.5\n",
    "\n",
    "#Intensité\n",
    "Im=2"
   ]
  },
  {
   "cell_type": "code",
   "execution_count": 52,
   "metadata": {},
   "outputs": [
    {
     "data": {
      "image/png": "[encoded data removed]",
      "text/plain": [
       "<Figure size 432x288 with 1 Axes>"
      ]
     },
     "metadata": {
      "needs_background": "light"
     },
     "output_type": "display_data"
    }
   ],
   "source": [
    "def PrixHoraire(t,ph,pb):\n",
    "    n=np.floor(t)\n",
    "    if n%200 < 99:\n",
    "        return ph\n",
    "    else:\n",
    "        return pb\n",
    "    \n",
    "VPrixHoraire= np.vectorize(PrixHoraire)\n",
    "lprix=VPrixHoraire(lt,3,2)\n",
    "plt.plot(lt,lprix)\n",
    "plt.show()"
   ]
  },
  {
   "cell_type": "code",
   "execution_count": 53,
   "metadata": {},
   "outputs": [],
   "source": [
    "def charge(I): #donne la charge à tout temps(charge absolue, pas en %)\n",
    "    c=c0*Qm\n",
    "    charge=np.zeros(n)\n",
    "    for i in range (n):\n",
    "        Q=-(lt[i+1]-lt[i])*(I[i])\n",
    "        c+=Q\n",
    "        charge[i]=c\n",
    "    return charge"
   ]
  },
  {
   "cell_type": "code",
   "execution_count": 54,
   "metadata": {},
   "outputs": [],
   "source": [
    "def fcout1(I): \n",
    "    S=0\n",
    "    listeS=[]\n",
    "    for i in range (n):\n",
    "        Q=-(lt[i+1]-lt[i])*I[i]\n",
    "        P=PrixHoraire(lt[i],ph,pb) #On suppose ici que l'on ne change pas de prix horaire sur l'intervalle listet[i], listet[i+1]\n",
    "        S+=P*Q\n",
    "        listeS.append(S)\n",
    "    return S,np.array(listeS)"
   ]
  },
  {
   "cell_type": "code",
   "execution_count": 55,
   "metadata": {},
   "outputs": [],
   "source": [
    "def affichage(I):    \n",
    "    lcout=fcout1(I)[1]\n",
    "    lcharge=charge(I)\n",
    "    lprix=VPrixHoraire(lt[0:n],3,2)\n",
    "    plt.plot(lt[0:n],lcout,'+',label=\"cout\")\n",
    "    plt.plot(lt[0:n],lcharge,'+',label=\"charge\")\n",
    "    plt.plot(lt[0:n],lprix,'+',label=\"prix\")\n",
    "    plt.plot(lt[0:n],I,'+',label=\"intensité\")\n",
    "    plt.legend()\n",
    "    plt.plot()\n"
   ]
  },
  {
   "cell_type": "markdown",
   "metadata": {},
   "source": [
    "On va maintenant implémenter une solution spécifique à notre problème, n'utilisant pas de méthode d'optimisation mais uniquement les spécificités du problème.\n",
    "\n",
    "Afin de minimiser le coût il faut charger le plus possible durant les périodes de bas coût et le moins possible durant les périodes où l'énergie est chère.\n",
    "\n",
    "Il faut néanmoins que notre problème soit solvable (que l'énergie à fournir soit inférieure à celle que l'on peut fournir en chargeant tout le temps à pleine puissance)."
   ]
  },
  {
   "cell_type": "code",
   "execution_count": 108,
   "metadata": {},
   "outputs": [],
   "source": [
    "def algoM():\n",
    "    E=(cf-c0)*Qm #énergie à fournir\n",
    "    \n",
    "    #il faut connaitre le temps disponible en heures creuses/pleines\n",
    "    Tp=[]\n",
    "    Tc=[]\n",
    "    deltaT=lt[1]-lt[0]#pas de temps\n",
    "    for i in range (len(lt)-1):\n",
    "        m=np.floor(lt[i])\n",
    "        if m%200 < 99:\n",
    "            Tp.append(i)\n",
    "        else:\n",
    "            Tc.append(i)\n",
    "    tp=len(Tp)*deltaT #durée des heures pleines\n",
    "    tc=len(Tc)*deltaT #durée des heures creuses\n",
    "    \n",
    "    I=np.zeros(n)\n",
    "    \n",
    "    if (tf-t0)*Im<E:\n",
    "        return (\"le temps de chargement n'est pas suffisant\")\n",
    "    \n",
    "    elif tc*Im>E: #les heures creuses sont suffisantes \n",
    "        Ic=-E/tc\n",
    "        \n",
    "        for i in Tc:\n",
    "            I[i]=Ic\n",
    "        return I\n",
    "    \n",
    "    \n",
    "    #il faut charger au maximum pendant les heures creuses et compléter par les heures pleines\n",
    "    Ic=Im\n",
    "    for i in Tc:\n",
    "        I[i]=-Ic\n",
    "    Ec=tc*Im #énergie reçue pendant les heures creuses\n",
    "    Ip=(E-Ec)/tp\n",
    "    for i in Tp:\n",
    "        I[i]=-Ip\n",
    "    return I\n",
    "            \n",
    "    \n",
    "        "
   ]
  },
  {
   "cell_type": "code",
   "execution_count": 109,
   "metadata": {},
   "outputs": [],
   "source": [
    "I=algoM()"
   ]
  },
  {
   "cell_type": "code",
   "execution_count": 110,
   "metadata": {},
   "outputs": [
    {
     "data": {
      "image/png": "[encoded data removed]",
      "text/plain": [
       "<Figure size 432x288 with 1 Axes>"
      ]
     },
     "metadata": {
      "needs_background": "light"
     },
     "output_type": "display_data"
    }
   ],
   "source": [
    "affichage(I)"
   ]
  },
  {
   "cell_type": "code",
   "execution_count": null,
   "metadata": {},
   "outputs": [],
   "source": []
  }
 ],
 "metadata": {
  "kernelspec": {
   "display_name": "Python 3",
   "language": "python",
   "name": "python3"
  },
  "language_info": {
   "codemirror_mode": {
    "name": "ipython",
    "version": 3
   },
   "file_extension": ".py",
   "mimetype": "text/x-python",
   "name": "python",
   "nbconvert_exporter": "python",
   "pygments_lexer": "ipython3",
   "version": "3.7.3"
  }
 },
 "nbformat": 4,
 "nbformat_minor": 2
}
