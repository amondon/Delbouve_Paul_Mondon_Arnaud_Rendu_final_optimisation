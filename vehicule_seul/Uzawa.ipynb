{
 "cells": [
  {
   "cell_type": "code",
   "execution_count": 1,
   "metadata": {},
   "outputs": [],
   "source": [
    "import matplotlib.pyplot as plt\n",
    "import numpy as np\n",
    "%matplotlib inline"
   ]
  },
  {
   "cell_type": "code",
   "execution_count": 2,
   "metadata": {},
   "outputs": [],
   "source": [
    "#données du problème :\n",
    "\n",
    "n=100#discretisation\n",
    "\n",
    "#temps:\n",
    "t0=0\n",
    "tf=299\n",
    "lt=np.linspace(t0,tf,n+1)\n",
    "\n",
    "#charge\n",
    "Qm=60\n",
    "c0=0.2\n",
    "cf=1\n",
    "\n",
    "#prix\n",
    "ph=1\n",
    "pb=0.5\n",
    "\n",
    "#Intensité\n",
    "Im=1"
   ]
  },
  {
   "cell_type": "code",
   "execution_count": 3,
   "metadata": {},
   "outputs": [
    {
     "data": {
      "image/png": "[encoded data removed]",
      "text/plain": [
       "<Figure size 432x288 with 1 Axes>"
      ]
     },
     "metadata": {
      "needs_background": "light"
     },
     "output_type": "display_data"
    }
   ],
   "source": [
    "def PrixHoraire(t,ph,pb):\n",
    "    n=np.floor(t)\n",
    "    if n%200 < 99:\n",
    "        return ph\n",
    "    else:\n",
    "        return pb\n",
    "    \n",
    "VPrixHoraire= np.vectorize(PrixHoraire)\n",
    "lprix=VPrixHoraire(lt,3,2)\n",
    "plt.plot(lt,lprix)\n",
    "plt.show()"
   ]
  },
  {
   "cell_type": "code",
   "execution_count": 4,
   "metadata": {},
   "outputs": [],
   "source": [
    "def charge(I): #donne la charge à tout temps(charge absolue, pas en %)\n",
    "    c=c0*Qm\n",
    "    charge=np.zeros(n)\n",
    "    for i in range (n):\n",
    "        Q=-(lt[i+1]-lt[i])*(I[i])\n",
    "        c+=Q\n",
    "        charge[i]=c\n",
    "    return charge"
   ]
  },
  {
   "cell_type": "code",
   "execution_count": 5,
   "metadata": {},
   "outputs": [],
   "source": [
    "def fcout1(I): \n",
    "    S=0\n",
    "    listeS=[]\n",
    "    for i in range (n):\n",
    "        Q=-(lt[i+1]-lt[i])*I[i]\n",
    "        P=PrixHoraire(lt[i],ph,pb) #On suppose ici que l'on ne change pas de prix horaire sur l'intervalle listet[i], listet[i+1]\n",
    "        S+=P*Q\n",
    "        listeS.append(S)\n",
    "    return S,np.array(listeS)"
   ]
  },
  {
   "cell_type": "code",
   "execution_count": 6,
   "metadata": {},
   "outputs": [],
   "source": [
    "def I0(): #Intensité qui respecte les contraintes mais n'est pas optimale\n",
    "    res=np.zeros(n)\n",
    "    for i in range (n):\n",
    "        res[i]=-Qm*(cf-c0)/(tf-t0)\n",
    "    return(res)\n"
   ]
  },
  {
   "cell_type": "code",
   "execution_count": 8,
   "metadata": {},
   "outputs": [
    {
     "data": {
      "image/png": "[encoded data removed]",
      "text/plain": [
       "<Figure size 432x288 with 1 Axes>"
      ]
     },
     "metadata": {
      "needs_background": "light"
     },
     "output_type": "display_data"
    }
   ],
   "source": [
    "def affichage(I):    \n",
    "    lcout=fcout1(I)[1]\n",
    "    lcharge=charge(I)\n",
    "    lprix=VPrixHoraire(lt[0:n],3,2)\n",
    "    plt.plot(lt[0:n],lcout,'+',label=\"cout\")\n",
    "    plt.plot(lt[0:n],lcharge,'+',label=\"charge\")\n",
    "    plt.plot(lt[0:n],lprix,'+',label=\"prix\")\n",
    "    plt.plot(lt[0:n],I[:n],'+',label=\"intensité\")\n",
    "    plt.legend()\n",
    "    plt.plot()\n",
    "I=I0()\n",
    "affichage(I)"
   ]
  },
  {
   "cell_type": "code",
   "execution_count": 9,
   "metadata": {},
   "outputs": [],
   "source": [
    "def gradfcout():\n",
    "    G=np.zeros(n)\n",
    "    for i in range (n):\n",
    "        p=PrixHoraire(lt[i],ph,pb)\n",
    "        q=(lt[i+1]-lt[i])\n",
    "        G[i]=-p*q\n",
    "    return G"
   ]
  },
  {
   "cell_type": "code",
   "execution_count": 10,
   "metadata": {},
   "outputs": [],
   "source": [
    "def C(I):\n",
    "\n",
    "    A=np.zeros ((2*n+2,n))\n",
    "    \n",
    "    # Contrainte égalité (chargement)\n",
    "    A[0,:]=np.array([lt[i+1]-lt[i] for i in range (n)])\n",
    "    A[1,:]=-np.array([lt[i+1]-lt[i] for i in range (n)])\n",
    "    #Contraintes inégalités ( limitation de la borne)\n",
    "    for i in range (n):\n",
    "        A[i+2,i]=-1\n",
    "        A[n+i+2,i]=1\n",
    "    B=np.zeros(2*n+2)\n",
    "    B[0]=-(cf-c0)*Qm\n",
    "    B[1]=(cf-c0)*Qm\n",
    "    for i in range(2,n+2):\n",
    "        B[i]=Im\n",
    "    for i in range(n+2,2*n+2):\n",
    "        B[i]=0\n",
    "    c=np.dot(A,I)-B\n",
    "    return c\n"
   ]
  },
  {
   "cell_type": "code",
   "execution_count": 12,
   "metadata": {},
   "outputs": [],
   "source": [
    "def gradC():\n",
    "    A=np.zeros ((2*n+2,n))\n",
    "    # Contrainte égalité (chargement)\n",
    "    A[0,:]=np.array([lt[i+1]-lt[i] for i in range (n)])\n",
    "    A[1,:]=-np.array([lt[i+1]-lt[i] for i in range (n)])\n",
    "    #Contraintes inégalités ( limitation de la borne)\n",
    "    for i in range (n):\n",
    "        A[i+2,i]=-1\n",
    "        A[n+i+2,i]=1\n",
    "    \n",
    "    return A"
   ]
  },
  {
   "cell_type": "code",
   "execution_count": 13,
   "metadata": {},
   "outputs": [],
   "source": [
    "def Algo(l=1e-3, rho=1e-3, max_iter=10000,epsilon=1e-3):\n",
    "    lamb=np.array([1 for i in range (2*n+2)])\n",
    "    A=gradC()\n",
    "    G=gradfcout()\n",
    "    gLap=G+np.dot(lamb,A)\n",
    "    xk=I0()\n",
    "    #xk=np.zeros((n))\n",
    "    k=0\n",
    "    L=[]\n",
    "    while (k<max_iter) and (np.linalg.norm(G+np.dot(lamb,A))>epsilon):\n",
    "        k+=1\n",
    "        L.append(np.linalg.norm(G+np.dot(lamb,A)))\n",
    "        glap=G+np.dot(lamb,A)\n",
    "        xk=xk-l*(G+np.dot(lamb,A))\n",
    "        lamb=lamb+rho*C(xk)\n",
    "        for i in range (len(lamb)):\n",
    "            if lamb[i]<=0:\n",
    "                lamb[i]=0\n",
    "        #print(xk[50])\n",
    "        \n",
    "    print(\"Nb d'itération'\",k)\n",
    "    print(\"grad lagrangien :\",np.linalg.norm(G+np.dot(lamb,A)))\n",
    "    #print(\"lambda final : \",lamb)\n",
    "    \n",
    "    return xk,L"
   ]
  },
  {
   "cell_type": "code",
   "execution_count": 18,
   "metadata": {},
   "outputs": [
    {
     "name": "stdout",
     "output_type": "stream",
     "text": [
      "Nb d'itération' 10000\n",
      "grad lagrangien : 25.937213098314093\n"
     ]
    }
   ],
   "source": [
    "I1,L=Algo()"
   ]
  },
  {
   "cell_type": "code",
   "execution_count": 19,
   "metadata": {},
   "outputs": [
    {
     "data": {
      "image/png": "[encoded data removed]",
      "text/plain": [
       "<Figure size 432x288 with 1 Axes>"
      ]
     },
     "metadata": {
      "needs_background": "light"
     },
     "output_type": "display_data"
    }
   ],
   "source": [
    "affichage(I1)"
   ]
  },
  {
   "cell_type": "code",
   "execution_count": 17,
   "metadata": {},
   "outputs": [],
   "source": [
    "def wolfe_step(fun, grad_fun, xk, pk, c1 = 0.25, c2 = 0.75, M = 1000):\n",
    "    a=0\n",
    "    b=0\n",
    "    l=1\n",
    "    i=0\n",
    "    B1=fun(xk+l*pk)<=fun(xk)+c1*l*np.dot(np.transpose(grad_fun(xk)),pk)\n",
    "    B2=np.dot(np.transpose(grad_fun(xk+l*pk)),pk)>=c2*np.dot(np.transpose(grad_fun(xk)),pk)\n",
    "    while B1*B2==0 and i<M:\n",
    "        if B1==0:\n",
    "            b=l\n",
    "            l=(a+b)/2.0\n",
    "        else:\n",
    "            a=l\n",
    "            if b==0:\n",
    "                l=2*l\n",
    "            else:\n",
    "                l=(a+b)/2.0\n",
    "        B1=fun(xk+l*pk)<=fun(xk)+c1*l*np.dot(np.transpose(grad_fun(xk)),pk)\n",
    "        B2=np.dot(np.transpose(grad_fun(xk+l*pk)),pk)>=c2*np.dot(np.transpose(grad_fun(xk)),pk)\n",
    "        i+=1\n",
    "\n",
    "    return l"
   ]
  },
  {
   "cell_type": "code",
   "execution_count": 148,
   "metadata": {},
   "outputs": [
    {
     "data": {
      "image/png": "[encoded data removed]",
      "text/plain": [
       "<Figure size 432x288 with 1 Axes>"
      ]
     },
     "metadata": {
      "needs_background": "light"
     },
     "output_type": "display_data"
    }
   ],
   "source": [
    "affichage(I1)"
   ]
  },
  {
   "cell_type": "code",
   "execution_count": 149,
   "metadata": {},
   "outputs": [
    {
     "name": "stdout",
     "output_type": "stream",
     "text": [
      "chargement:NO\n",
      "borne:NO\n"
     ]
    }
   ],
   "source": [
    "check(I1)"
   ]
  },
  {
   "cell_type": "code",
   "execution_count": 130,
   "metadata": {},
   "outputs": [],
   "source": [
    "def Lag(x,lamb):\n",
    "    return fcout1(x)[0] + np.dot(lamb,C(x))"
   ]
  },
  {
   "cell_type": "code",
   "execution_count": 131,
   "metadata": {},
   "outputs": [],
   "source": [
    "def GradLag(x,lamb):\n",
    "    return gradfcout()+np.dot(lamb,gradC())"
   ]
  },
  {
   "cell_type": "code",
   "execution_count": 140,
   "metadata": {},
   "outputs": [],
   "source": [
    "def AlgoW(rho=1e-0, max_iter=10000,epsilon=1e-8):\n",
    "    lamb=np.array([0.1 for i in range (2*n+2)])\n",
    "    A=gradC()\n",
    "    G=gradfcout()\n",
    "    gLap=G+np.dot(lamb,A)\n",
    "    xk=I0()\n",
    "    k=0\n",
    "    while (k<max_iter) and (np.linalg.norm(G+np.dot(lamb,A))>epsilon):\n",
    "        k+=1\n",
    "        print(k)\n",
    "        glap=G+np.dot(lamb,A)\n",
    "        l=wolfe_step(lambda x:Lag(x,lamb),lambda x:GradLag(x,lamb), xk,-glap)\n",
    "        xk=xk-l*(G+np.dot(lamb,A))\n",
    "        lamb=lamb+rho*C(xk)\n",
    "        for i in range (len(lamb)):\n",
    "            if lamb[i]<=0:\n",
    "                lamb[i]=0\n",
    "        \n",
    "    print(\"Nb d'itération'\",k)\n",
    "    print(\"grad lagrangien :\",np.linalg.norm(G+np.dot(lamb,A)))\n",
    "    print(\"lambda final : \",lamb)\n",
    "    return xk"
   ]
  },
  {
   "cell_type": "markdown",
   "metadata": {},
   "source": [
    "# Méthode \"affine scaling\"\n",
    "\n"
   ]
  },
  {
   "cell_type": "code",
   "execution_count": 336,
   "metadata": {},
   "outputs": [
    {
     "name": "stdout",
     "output_type": "stream",
     "text": [
      "33\n",
      "(34, 133)\n"
     ]
    }
   ],
   "source": [
    "#on construit la liste des indices correspondants aux heures creuses\n",
    "Tc=[]\n",
    "for i in range (len(lt)-1):\n",
    "    m=np.floor(lt[i])\n",
    "    if not m%200 < 99:\n",
    "        Tc.append(i)\n",
    "        \n",
    "m=len(Tc) #nombre de contraintes à ajouter\n",
    "print(m)\n",
    "\n",
    "A=np.zeros ((1+m,n+m))\n",
    "    \n",
    "# Contrainte égalité (chargement)\n",
    "A[0][:n]=np.array([lt[i+1]-lt[i] for i in range (n)])\n",
    "#contraintes inégalites\n",
    "for i in range (m):\n",
    "    A[i+1,Tc[i]]=1\n",
    "    A[i+1,n+i]=1\n",
    "\n",
    "    \n",
    "B=np.zeros(1+m)\n",
    "B[0]=(cf-c0)*Qm\n",
    "for i in range(m):\n",
    "    B[i+1]=Im\n",
    "\n",
    "C=np.zeros(n+m)\n",
    "for i in range(n):\n",
    "    C[i]=PrixHoraire(lt[i],ph,pb)*(lt[i+1]-lt[i])\n",
    "\n",
    "    \n",
    "print(np.shape(A))"
   ]
  },
  {
   "cell_type": "code",
   "execution_count": 337,
   "metadata": {},
   "outputs": [],
   "source": [
    "def neg(x):\n",
    "    \n",
    "    for i in range(len(x)):\n",
    "        if x[i]>=0:\n",
    "            return 0\n",
    "    return 1\n",
    "def sup(x):\n",
    "    for i in range(len(x)):\n",
    "        if x[i]<0:\n",
    "            return 0\n",
    "    return 1"
   ]
  },
  {
   "cell_type": "code",
   "execution_count": 358,
   "metadata": {},
   "outputs": [],
   "source": [
    "def algoASA(max_iter=10000,epsi=1e-6,beta=0.9):\n",
    "\n",
    "    xk=-I0()\n",
    "\n",
    "    k=0\n",
    "    m=np.shape(A)[0]-1\n",
    "    Z=np.array([Im-xk[Tc[i]] for i in range (m)])#variables d'écarts\n",
    "    xk=np.concatenate((xk,Z),axis=0)\n",
    "    Xk=np.diag(xk)\n",
    "    e=np.array([1 for i in range(n+m)])\n",
    "    H1=np.matmul(np.matmul(A,Xk),np.matmul(Xk,np.transpose(A)))\n",
    "    H2=np.matmul(np.dot(A,Xk),np.dot(Xk,C))\n",
    "    pk=np.matmul(np.linalg.inv(H1),H2)\n",
    "    rk=C-np.dot(np.transpose(A),pk)\n",
    "    while k<max_iter:\n",
    "        if sup(rk) and np.dot(e,np.dot(Xk,rk))<epsi:\n",
    "            return xk\n",
    "        G=np.dot(np.dot(Xk,Xk),rk)\n",
    "        if sup(-G):\n",
    "            return (\"solution non finie\")\n",
    "        xk=xk-beta*G/np.linalg.norm(np.dot(Xk,rk))\n",
    "        Xk=np.diag(xk)\n",
    "        \n",
    "        H1=np.matmul(np.dot(A,Xk),np.matmul(Xk,np.transpose(A)))\n",
    "        H2=np.matmul(np.dot(A,Xk),np.matmul(Xk,C))\n",
    "        pk=np.matmul(np.linalg.inv(H1),H2)\n",
    "        rk=C-np.dot(np.transpose(A),pk)\n",
    "        k+=1\n",
    "        if k%500==0:\n",
    "            print(k)\n",
    "    \n",
    "    return xk"
   ]
  },
  {
   "cell_type": "code",
   "execution_count": 369,
   "metadata": {},
   "outputs": [],
   "source": [
    "I=-algoASA()"
   ]
  },
  {
   "cell_type": "code",
   "execution_count": 370,
   "metadata": {},
   "outputs": [
    {
     "data": {
      "image/png": "[encoded data removed]",
      "text/plain": [
       "<Figure size 432x288 with 1 Axes>"
      ]
     },
     "metadata": {
      "needs_background": "light"
     },
     "output_type": "display_data"
    }
   ],
   "source": [
    "affichage(I)"
   ]
  },
  {
   "cell_type": "code",
   "execution_count": 367,
   "metadata": {},
   "outputs": [
    {
     "name": "stdout",
     "output_type": "stream",
     "text": [
      "[-6.74953655e-15 -6.74953655e-15 -6.74953655e-15 -6.74953655e-15\n",
      " -6.74953655e-15 -6.74953655e-15 -6.74953655e-15 -6.74953655e-15\n",
      " -6.74953655e-15 -6.74953655e-15 -6.74953655e-15 -6.74953655e-15\n",
      " -6.74953655e-15 -6.74953655e-15 -6.74953655e-15 -6.74953655e-15\n",
      " -6.74953655e-15 -6.74953655e-15 -6.74953655e-15 -6.74953655e-15\n",
      " -6.74953655e-15 -6.74953655e-15 -6.74953655e-15 -6.74953655e-15\n",
      " -6.74953655e-15 -6.74953655e-15 -6.74953655e-15 -6.74953655e-15\n",
      " -6.74953655e-15 -6.74953655e-15 -6.74953655e-15 -6.74953655e-15\n",
      " -6.74953655e-15 -6.74953655e-15 -8.17257961e-01 -8.15347203e-01\n",
      " -8.16559386e-01 -8.15429404e-01 -8.14273646e-01 -8.14260505e-01\n",
      " -8.17661793e-01 -8.14560079e-01 -8.14584927e-01 -8.15268156e-01\n",
      " -8.16597479e-01 -8.14907650e-01 -8.14249039e-01 -8.16411596e-01\n",
      " -8.22278398e-01 -8.16995229e-01 -8.14472207e-01 -8.13718647e-01\n",
      " -8.15237561e-01 -8.13815978e-01 -8.12731577e-01 -8.15056479e-01\n",
      " -8.14312190e-01 -8.09760563e-01 -8.19939129e-01 -8.14194792e-01\n",
      " -8.18225818e-01 -8.18038038e-01 -8.19687052e-01 -8.18788744e-01\n",
      " -8.10720368e-01 -8.20315122e-01 -8.18598005e-01 -6.74953655e-15\n",
      " -6.74953655e-15 -6.74953655e-15 -6.74953655e-15 -6.74953655e-15\n",
      " -6.74953655e-15 -6.74953655e-15 -6.74953655e-15 -6.74953655e-15\n",
      " -6.74953655e-15 -6.74953655e-15 -6.74953655e-15 -6.74953655e-15\n",
      " -6.74953655e-15 -6.74953655e-15 -6.74953655e-15 -6.74953655e-15\n",
      " -6.74953655e-15 -6.74953655e-15 -6.74953655e-15 -6.74953655e-15\n",
      " -6.74953655e-15 -6.74953655e-15 -6.74953655e-15 -6.74953655e-15\n",
      " -6.74953655e-15 -6.74953655e-15 -6.74953655e-15 -6.74953655e-15\n",
      " -6.74953655e-15 -6.74953655e-15 -6.74953655e-15 -6.74953655e-15\n",
      " -1.18587091e+00 -1.18010830e+00 -1.17843350e+00 -1.18076867e+00\n",
      " -1.18267479e+00 -1.17854465e+00 -1.18652605e+00 -1.17906968e+00\n",
      " -1.18409464e+00 -1.18347221e+00 -1.18566506e+00 -1.17894761e+00\n",
      " -1.18078619e+00 -1.18110361e+00 -1.19761006e+00 -1.18517898e+00\n",
      " -1.17943166e+00 -1.18060309e+00 -1.18388156e+00 -1.17711143e+00\n",
      " -1.17932138e+00 -1.18139079e+00 -1.17633227e+00 -1.17044342e+00\n",
      " -1.19208683e+00 -1.18228526e+00 -1.18908964e+00 -1.18142599e+00\n",
      " -1.18898634e+00 -1.18515181e+00 -1.17428783e+00 -1.18670950e+00\n",
      " -1.18636443e+00]\n"
     ]
    }
   ],
   "source": [
    "print(I)"
   ]
  },
  {
   "cell_type": "code",
   "execution_count": null,
   "metadata": {},
   "outputs": [],
   "source": []
  }
 ],
 "metadata": {
  "kernelspec": {
   "display_name": "Python 3",
   "language": "python",
   "name": "python3"
  },
  "language_info": {
   "codemirror_mode": {
    "name": "ipython",
    "version": 3
   },
   "file_extension": ".py",
   "mimetype": "text/x-python",
   "name": "python",
   "nbconvert_exporter": "python",
   "pygments_lexer": "ipython3",
   "version": "3.7.3"
  }
 },
 "nbformat": 4,
 "nbformat_minor": 2
}
